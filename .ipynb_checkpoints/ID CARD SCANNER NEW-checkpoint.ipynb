{
 "cells": [
  {
   "cell_type": "code",
   "execution_count": 3,
   "id": "2a91e23e",
   "metadata": {},
   "outputs": [],
   "source": [
    "import cv2\n",
    "import pytesseract\n",
    "pytesseract.pytesseract.tesseract_cmd=r'C:\\\\Program Files\\\\Tesseract-OCR\\\\tesseract.exe'"
   ]
  },
  {
   "cell_type": "code",
   "execution_count": 4,
   "id": "affb8595",
   "metadata": {},
   "outputs": [
    {
     "name": "stdout",
     "output_type": "stream",
     "text": [
      "{\"text\": \"Name Anand Vishwakarma\\nParent Arun Vishwakarma\\nCourse/Branch B.Tech - CSE\\nEnroliment No. :8T22CS013\\n\\nBlaod Group :O+ve\\n\\nEm\\u00e9tgency No. :9925150588\\nValid Till 2022-2026\\n\\n\"}\n"
     ]
    }
   ],
   "source": [
    "# Import required libraries\n",
    "from PIL import Image\n",
    "import pytesseract\n",
    "import json\n",
    "import pickle\n",
    "\n",
    "# Open the image file\n",
    "image = Image.open('C:\\\\Users\\\\LENOVO\\\\Downloads\\\\ID.jpg')\n",
    "\n",
    "# Use pytesseract to extract text from the image\n",
    "text = pytesseract.image_to_string(image)\n",
    "\n",
    "# Convert the extracted text into a dictionary\n",
    "data = {'text': text}\n",
    "\n",
    "# Convert the dictionary into JSON format\n",
    "json_data = json.dumps(data)\n",
    "\n",
    "# Dump the JSON data into a pickle file\n",
    "with open('json_data.pkl', 'wb') as f:\n",
    "    pickle.dump(json_data, f)\n",
    "\n",
    "# Print the JSON data\n",
    "print(json_data)"
   ]
  },
  {
   "cell_type": "code",
   "execution_count": 5,
   "id": "6edfa1dc",
   "metadata": {},
   "outputs": [
    {
     "name": "stdout",
     "output_type": "stream",
     "text": [
      "Name Anand Vishwakarma\n",
      "Parent Arun Vishwakarma\n",
      "Course/Branch B.Tech - CSE\n",
      "Enroliment No. :8T22CS013\n",
      "\n",
      "Blaod Group :O+ve\n",
      "\n",
      "Emétgency No. :9925150588\n",
      "Valid Till 2022-2026\n",
      "\n",
      "\n"
     ]
    }
   ],
   "source": [
    "# Load the pickle file\n",
    "with open('json_data.pkl', 'rb') as f:\n",
    "    json_data = pickle.load(f)\n",
    "\n",
    "# Parse the JSON data\n",
    "data = json.loads(json_data)\n",
    "\n",
    "# Access the text\n",
    "text = data['text']\n",
    "\n",
    "# Print the text\n",
    "print(text)"
   ]
  },
  {
   "cell_type": "code",
   "execution_count": 1,
   "id": "404c07b3",
   "metadata": {},
   "outputs": [
    {
     "name": "stdout",
     "output_type": "stream",
     "text": [
      "{\n",
      "    \"Name\": \"Anand Vishwakarma\",\n",
      "    \"Parent\": \"Arun Vishwakarma\",\n",
      "    \"Course/Branch\": \"B.Tech - CSE\",\n",
      "    \"Enroliment No.\": \"8T22CS013\",\n",
      "    \"Blaod Group\": \"O+ve\",\n",
      "    \"Em\\u00e9tgency No.\": \"9925150588\",\n",
      "    \"Valid\": \"Till 2022-2026\"\n",
      "}\n"
     ]
    }
   ],
   "source": [
    "import cv2\n",
    "import pytesseract\n",
    "from PIL import Image\n",
    "import json\n",
    "import pickle\n",
    "\n",
    "pytesseract.pytesseract.tesseract_cmd = r'C:\\\\Program Files\\\\Tesseract-OCR\\\\tesseract.exe'\n",
    "\n",
    "# Open the image file\n",
    "image = Image.open('C:\\\\Users\\\\LENOVO\\\\Downloads\\\\ID.jpg')\n",
    "\n",
    "# Use pytesseract to extract text from the image\n",
    "text = pytesseract.image_to_string(image)\n",
    "\n",
    "# Split the text by new lines and filter out empty lines\n",
    "lines = [line for line in text.split('\\n') if line.strip()]\n",
    "\n",
    "# Initialize an empty dictionary to hold the key-value pairs\n",
    "data = {}\n",
    "\n",
    "# Process each line to extract the key-value pairs\n",
    "for line in lines:\n",
    "    if ':' in line:\n",
    "        key, value = line.split(':', 1)\n",
    "        key = key.strip()\n",
    "        value = value.strip()\n",
    "    else:\n",
    "        key, value = line.split(' ', 1)\n",
    "        key = key.strip()\n",
    "        value = value.strip()\n",
    "    data[key] = value\n",
    "\n",
    "# Convert the dictionary into JSON format\n",
    "json_data = json.dumps(data, indent=4)\n",
    "\n",
    "# Dump the JSON data into a pickle file\n",
    "with open('json_data.pkl', 'wb') as f:\n",
    "    pickle.dump(json_data, f)\n",
    "\n",
    "# Print the JSON data\n",
    "print(json_data)\n"
   ]
  },
  {
   "cell_type": "code",
   "execution_count": null,
   "id": "b8115344",
   "metadata": {},
   "outputs": [],
   "source": []
  }
 ],
 "metadata": {
  "kernelspec": {
   "display_name": "Python 3 (ipykernel)",
   "language": "python",
   "name": "python3"
  },
  "language_info": {
   "codemirror_mode": {
    "name": "ipython",
    "version": 3
   },
   "file_extension": ".py",
   "mimetype": "text/x-python",
   "name": "python",
   "nbconvert_exporter": "python",
   "pygments_lexer": "ipython3",
   "version": "3.10.13"
  }
 },
 "nbformat": 4,
 "nbformat_minor": 5
}
