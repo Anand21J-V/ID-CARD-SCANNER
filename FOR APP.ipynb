{
 "cells": [
  {
   "cell_type": "code",
   "execution_count": 1,
   "id": "1890cbf5",
   "metadata": {},
   "outputs": [
    {
     "name": "stdout",
     "output_type": "stream",
     "text": [
      "{\"text\": \"Name Anand Vishwakarma\\nParent Arun Vishwakarma\\nCourse/Branch B.Tech - CSE\\nEnroliment No. :8T22CS013\\n\\nBlaod Group :O+ve\\n\\nEm\\u00e9tgency No. :9925150588\\nValid Till 2022-2026\\n\\n\"}\n"
     ]
    }
   ],
   "source": [
    "import cv2\n",
    "import pytesseract\n",
    "pytesseract.pytesseract.tesseract_cmd=r'C:\\\\Program Files\\\\Tesseract-OCR\\\\tesseract.exe'\n",
    "\n",
    "# Import required libraries\n",
    "from PIL import Image\n",
    "import pytesseract\n",
    "import json\n",
    "import pickle\n",
    "\n",
    "# Open the image file\n",
    "image = Image.open('C:\\\\Users\\\\LENOVO\\\\Downloads\\\\ID.jpg')\n",
    "\n",
    "# Use pytesseract to extract text from the image\n",
    "text = pytesseract.image_to_string(image)\n",
    "\n",
    "# Convert the extracted text into a dictionary\n",
    "data = {'text': text}\n",
    "\n",
    "# Convert the dictionary into JSON format\n",
    "json_data = json.dumps(data)\n",
    "\n",
    "# Dump the JSON data into a pickle file\n",
    "with open('json_data.pkl', 'wb') as f:\n",
    "    pickle.dump(json_data, f)\n",
    "\n",
    "# Print the JSON data\n",
    "print(json_data)\n",
    "\n"
   ]
  },
  {
   "cell_type": "code",
   "execution_count": 2,
   "id": "d7432044",
   "metadata": {},
   "outputs": [
    {
     "ename": "SyntaxError",
     "evalue": "invalid syntax (1248870045.py, line 31)",
     "output_type": "error",
     "traceback": [
      "\u001b[1;36m  Cell \u001b[1;32mIn[2], line 31\u001b[1;36m\u001b[0m\n\u001b[1;33m    CUSTOMIZE THE ABOVE MODEL IN SUCH A WAY THAT THE OUTPUT COMES IN THIS WAY :\u001b[0m\n\u001b[1;37m              ^\u001b[0m\n\u001b[1;31mSyntaxError\u001b[0m\u001b[1;31m:\u001b[0m invalid syntax\n"
     ]
    }
   ],
   "source": [
    "import cv2\n",
    "import pytesseract\n",
    "pytesseract.pytesseract.tesseract_cmd=r'C:\\\\Program Files\\\\Tesseract-OCR\\\\tesseract.exe'\n",
    "\n",
    "# Import required libraries\n",
    "from PIL import Image\n",
    "import pytesseract\n",
    "import json\n",
    "import pickle\n",
    "\n",
    "# Open the image file\n",
    "image = Image.open('C:\\\\Users\\\\LENOVO\\\\Downloads\\\\ID.jpg')\n",
    "\n",
    "# Use pytesseract to extract text from the image\n",
    "text = pytesseract.image_to_string(image)\n",
    "\n",
    "# Convert the extracted text into a dictionary\n",
    "data = {'text': text}\n",
    "\n",
    "# Convert the dictionary into JSON format\n",
    "json_data = json.dumps(data)\n",
    "\n",
    "# Dump the JSON data into a pickle file\n",
    "with open('json_data.pkl', 'wb') as f:\n",
    "    pickle.dump(json_data, f)\n",
    "\n",
    "# Print the JSON data\n",
    "print(json_data)\n",
    "\n",
    "\n",
    "CUSTOMIZE THE ABOVE MODEL IN SUCH A WAY THAT THE OUTPUT COMES IN THIS WAY :  \n",
    "\n",
    "{ \"Name : Anand Vishwakarma\"\n",
    "   \"Parent : Arun Vishwakarma\"}\n",
    "\n",
    "instead of \n",
    "{\"text\": \"Name Anand Vishwakarma\\nParent Arun Vishwakarma\"}"
   ]
  },
  {
   "cell_type": "code",
   "execution_count": 3,
   "id": "d16b405d",
   "metadata": {},
   "outputs": [
    {
     "ename": "IndexError",
     "evalue": "list index out of range",
     "output_type": "error",
     "traceback": [
      "\u001b[1;31m---------------------------------------------------------------------------\u001b[0m",
      "\u001b[1;31mIndexError\u001b[0m                                Traceback (most recent call last)",
      "Cell \u001b[1;32mIn[3], line 27\u001b[0m\n\u001b[0;32m     24\u001b[0m text \u001b[38;5;241m=\u001b[39m pytesseract\u001b[38;5;241m.\u001b[39mimage_to_string(image)\n\u001b[0;32m     26\u001b[0m \u001b[38;5;66;03m# Convert the extracted text into a dictionary with specific keys\u001b[39;00m\n\u001b[1;32m---> 27\u001b[0m data \u001b[38;5;241m=\u001b[39m \u001b[43mparse_text\u001b[49m\u001b[43m(\u001b[49m\u001b[43mtext\u001b[49m\u001b[43m)\u001b[49m\n\u001b[0;32m     29\u001b[0m \u001b[38;5;66;03m# Convert the dictionary into JSON format\u001b[39;00m\n\u001b[0;32m     30\u001b[0m json_data \u001b[38;5;241m=\u001b[39m json\u001b[38;5;241m.\u001b[39mdumps(data)\n",
      "Cell \u001b[1;32mIn[3], line 15\u001b[0m, in \u001b[0;36mparse_text\u001b[1;34m(text)\u001b[0m\n\u001b[0;32m     13\u001b[0m \u001b[38;5;28;01mfor\u001b[39;00m line \u001b[38;5;129;01min\u001b[39;00m lines:\n\u001b[0;32m     14\u001b[0m     \u001b[38;5;28;01mif\u001b[39;00m \u001b[38;5;124m\"\u001b[39m\u001b[38;5;124mName\u001b[39m\u001b[38;5;124m\"\u001b[39m \u001b[38;5;129;01min\u001b[39;00m line:\n\u001b[1;32m---> 15\u001b[0m         data[\u001b[38;5;124m'\u001b[39m\u001b[38;5;124mName\u001b[39m\u001b[38;5;124m'\u001b[39m] \u001b[38;5;241m=\u001b[39m \u001b[43mline\u001b[49m\u001b[38;5;241;43m.\u001b[39;49m\u001b[43msplit\u001b[49m\u001b[43m(\u001b[49m\u001b[38;5;124;43m'\u001b[39;49m\u001b[38;5;124;43m:\u001b[39;49m\u001b[38;5;124;43m'\u001b[39;49m\u001b[43m)\u001b[49m\u001b[43m[\u001b[49m\u001b[38;5;241;43m1\u001b[39;49m\u001b[43m]\u001b[49m\u001b[38;5;241m.\u001b[39mstrip()\n\u001b[0;32m     16\u001b[0m     \u001b[38;5;28;01melif\u001b[39;00m \u001b[38;5;124m\"\u001b[39m\u001b[38;5;124mParent\u001b[39m\u001b[38;5;124m\"\u001b[39m \u001b[38;5;129;01min\u001b[39;00m line:\n\u001b[0;32m     17\u001b[0m         data[\u001b[38;5;124m'\u001b[39m\u001b[38;5;124mParent\u001b[39m\u001b[38;5;124m'\u001b[39m] \u001b[38;5;241m=\u001b[39m line\u001b[38;5;241m.\u001b[39msplit(\u001b[38;5;124m'\u001b[39m\u001b[38;5;124m:\u001b[39m\u001b[38;5;124m'\u001b[39m)[\u001b[38;5;241m1\u001b[39m]\u001b[38;5;241m.\u001b[39mstrip()\n",
      "\u001b[1;31mIndexError\u001b[0m: list index out of range"
     ]
    }
   ],
   "source": [
    "import cv2\n",
    "import pytesseract\n",
    "pytesseract.pytesseract.tesseract_cmd = r'C:\\\\Program Files\\\\Tesseract-OCR\\\\tesseract.exe'\n",
    "\n",
    "# Import required libraries\n",
    "from PIL import Image\n",
    "import json\n",
    "import pickle\n",
    "\n",
    "def parse_text(text):\n",
    "    lines = text.split('\\n')\n",
    "    data = {}\n",
    "    for line in lines:\n",
    "        if \"Name\" in line:\n",
    "            data['Name'] = line.split(':')[1].strip()\n",
    "        elif \"Parent\" in line:\n",
    "            data['Parent'] = line.split(':')[1].strip()\n",
    "    return data\n",
    "\n",
    "# Open the image file\n",
    "image = Image.open('C:\\\\Users\\\\LENOVO\\\\Downloads\\\\ID.jpg')\n",
    "\n",
    "# Use pytesseract to extract text from the image\n",
    "text = pytesseract.image_to_string(image)\n",
    "\n",
    "# Convert the extracted text into a dictionary with specific keys\n",
    "data = parse_text(text)\n",
    "\n",
    "# Convert the dictionary into JSON format\n",
    "json_data = json.dumps(data)\n",
    "\n",
    "# Dump the JSON data into a pickle file\n",
    "with open('json_data.pkl', 'wb') as f:\n",
    "    pickle.dump(json_data, f)\n",
    "\n",
    "# Print the JSON data\n",
    "print(json_data)\n"
   ]
  },
  {
   "cell_type": "code",
   "execution_count": null,
   "id": "b15c938a",
   "metadata": {},
   "outputs": [],
   "source": []
  }
 ],
 "metadata": {
  "kernelspec": {
   "display_name": "Python 3 (ipykernel)",
   "language": "python",
   "name": "python3"
  },
  "language_info": {
   "codemirror_mode": {
    "name": "ipython",
    "version": 3
   },
   "file_extension": ".py",
   "mimetype": "text/x-python",
   "name": "python",
   "nbconvert_exporter": "python",
   "pygments_lexer": "ipython3",
   "version": "3.10.13"
  }
 },
 "nbformat": 4,
 "nbformat_minor": 5
}
