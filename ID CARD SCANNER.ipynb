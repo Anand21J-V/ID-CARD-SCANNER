{
 "cells": [
  {
   "cell_type": "markdown",
   "id": "11987031",
   "metadata": {},
   "source": [
    "# IMPORTING LIBRARIES"
   ]
  },
  {
   "cell_type": "code",
   "execution_count": 1,
   "id": "549e3aba",
   "metadata": {},
   "outputs": [],
   "source": [
    "import cv2\n",
    "import pytesseract\n",
    "pytesseract.pytesseract.tesseract_cmd=r'C:\\\\Program Files\\\\Tesseract-OCR\\\\tesseract.exe'"
   ]
  },
  {
   "cell_type": "markdown",
   "id": "dadaaa38",
   "metadata": {},
   "source": [
    "# READING AND SHOWING THE IMAGE"
   ]
  },
  {
   "cell_type": "code",
   "execution_count": 2,
   "id": "22e4a2bd",
   "metadata": {},
   "outputs": [],
   "source": [
    "img = cv2.imread('C:\\\\Users\\\\LENOVO\\\\Downloads\\\\ID.jpg')\n",
    "cv2.imshow(\"Sample Image\",img)\n",
    "cv2.waitKey(0)\n",
    "cv2.destroyAllWindows()"
   ]
  },
  {
   "cell_type": "markdown",
   "id": "394fdf8b",
   "metadata": {},
   "source": [
    "# CONVERTING THE IMAGE INTO STRING"
   ]
  },
  {
   "cell_type": "code",
   "execution_count": 3,
   "id": "0d303c32",
   "metadata": {},
   "outputs": [
    {
     "name": "stdout",
     "output_type": "stream",
     "text": [
      "Name Anand Vishwakarma\n",
      "Parent Arun Vishwakarma\n",
      "Course/Branch -B.Tech - CSE\n",
      "\n",
      "Enrollment No. :8T22CS013\n",
      "Blaod Group :O+ve\n",
      "\n",
      "Emétgency No. :9925150588\n",
      "Valid Till 2022-2026\n",
      "\n",
      "\n"
     ]
    }
   ],
   "source": [
    "text=pytesseract.image_to_string(img)\n",
    "print(text)"
   ]
  },
  {
   "cell_type": "markdown",
   "id": "4558791b",
   "metadata": {},
   "source": [
    "# CONVERTING STRING INTO IMAGE"
   ]
  },
  {
   "cell_type": "code",
   "execution_count": 4,
   "id": "96fc67d8",
   "metadata": {},
   "outputs": [
    {
     "data": {
      "text/plain": [
       "'{\"\": \"Name Anand Vishwakarma\\\\nParent Arun Vishwakarma\\\\nCourse/Branch -B.Tech - CSE\\\\n\\\\nEnrollment No. :8T22CS013\\\\nBlaod Group :O+ve\\\\n\\\\nEm\\\\u00e9tgency No. :9925150588\\\\nValid Till 2022-2026\\\\n\\\\n\"}'"
      ]
     },
     "execution_count": 4,
     "metadata": {},
     "output_type": "execute_result"
    }
   ],
   "source": [
    "import json\n",
    "\n",
    "# Your text data\n",
    "text_data = text\n",
    "\n",
    "# Convert text to JSON format\n",
    "json_data = json.dumps({\"\": text_data})\n",
    "\n",
    "# Display the JSON data\n",
    "json_data"
   ]
  },
  {
   "cell_type": "code",
   "execution_count": 5,
   "id": "c18b22a8",
   "metadata": {},
   "outputs": [
    {
     "name": "stdout",
     "output_type": "stream",
     "text": [
      "Name Anand Vishwakarma\n",
      "Parent Arun Vishwakarma\n",
      "Course/Branch B.Tech - CSE\n",
      "Enroliment No. :8T22CS013\n",
      "\n",
      "Blaod Group :O+ve\n",
      "\n",
      "Emétgency No. :9925150588\n",
      "Valid Till 2022-2026\n",
      "\n",
      "\n"
     ]
    }
   ],
   "source": [
    "\n",
    "#IMPORITNG THE LIBRARY\n",
    "import json\n",
    "import pickle\n",
    "\n",
    "# Load the pickle file\n",
    "with open('json_data.pkl', 'rb') as f:\n",
    "    json_data = pickle.load(f)\n",
    "\n",
    "# Parse the JSON data\n",
    "data = json.loads(json_data)\n",
    "\n",
    "# Access the text\n",
    "text = data['text']\n",
    "\n",
    "# Print the text\n",
    "print(text)"
   ]
  },
  {
   "cell_type": "code",
   "execution_count": null,
   "id": "82b70a80",
   "metadata": {},
   "outputs": [],
   "source": []
  }
 ],
 "metadata": {
  "kernelspec": {
   "display_name": "Python 3 (ipykernel)",
   "language": "python",
   "name": "python3"
  },
  "language_info": {
   "codemirror_mode": {
    "name": "ipython",
    "version": 3
   },
   "file_extension": ".py",
   "mimetype": "text/x-python",
   "name": "python",
   "nbconvert_exporter": "python",
   "pygments_lexer": "ipython3",
   "version": "3.10.13"
  }
 },
 "nbformat": 4,
 "nbformat_minor": 5
}
